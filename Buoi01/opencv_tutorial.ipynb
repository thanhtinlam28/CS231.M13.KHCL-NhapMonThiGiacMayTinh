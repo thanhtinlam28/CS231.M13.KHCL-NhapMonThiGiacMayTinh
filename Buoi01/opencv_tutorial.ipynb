{
 "cells": [
  {
   "cell_type": "markdown",
   "source": [
    "# TUTORIAL 01"
   ],
   "metadata": {}
  },
  {
   "cell_type": "code",
   "execution_count": 2,
   "source": [
    "#import packages\r\n",
    "import imutils\r\n",
    "import cv2\r\n",
    "\r\n",
    "#Load the input image and show its dimensions\r\n",
    "image = cv2.imread(\"rab.jpg\")\r\n",
    "(h, w, d) = image.shape\r\n",
    "print(\"width={}, height={}, depth={}\".format(w,h,d))"
   ],
   "outputs": [
    {
     "output_type": "stream",
     "name": "stdout",
     "text": [
      "width=640, height=329, depth=3\n"
     ]
    }
   ],
   "metadata": {}
  },
  {
   "cell_type": "code",
   "execution_count": 3,
   "source": [
    "#Display image\r\n",
    "cv2.imshow(\"Image\", image)\r\n",
    "cv2.waitKey(0)\r\n",
    "\r\n",
    "#access the RGB pixel located at x=50, y=100.\r\n",
    "#OpenCV stores images in BGR\r\n",
    "(B, G, R) = image[100,50]\r\n",
    "print(\"R={}, G={}, B={}\".format(R, G, B))"
   ],
   "outputs": [
    {
     "output_type": "stream",
     "name": "stdout",
     "text": [
      "R=138, G=131, B=139\n"
     ]
    }
   ],
   "metadata": {}
  },
  {
   "cell_type": "markdown",
   "source": [
    "## Result\r\n",
    "<img src='tut1_1.png'></img>"
   ],
   "metadata": {}
  },
  {
   "cell_type": "code",
   "execution_count": 3,
   "source": [
    "# extract a 100x100 pixel square ROI (Region of Interest) from the\r\n",
    "# input image starting at x=230,y=60 at ending at x=430,y=230\r\n",
    "roi = image[60:230, 230:430]\r\n",
    "cv2.imshow(\"ROI\", roi)\r\n",
    "cv2.waitKey(0)\r\n",
    "\r\n",
    "# resize the image to 200x200px, ignoring aspect ratio\r\n",
    "resized = cv2.resize(image, (200, 200))\r\n",
    "cv2.imshow(\"Fixed Resizing\", resized)\r\n",
    "cv2.waitKey(0)"
   ],
   "outputs": [
    {
     "output_type": "execute_result",
     "data": {
      "text/plain": [
       "-1"
      ]
     },
     "metadata": {},
     "execution_count": 3
    }
   ],
   "metadata": {}
  },
  {
   "cell_type": "markdown",
   "source": [
    "## Result\r\n",
    "## 1\r\n",
    "<img src=\"./tut1_2.png\"></img>\r\n",
    "## 2\r\n",
    "<img src=\"tut1_3.png\"></img>"
   ],
   "metadata": {}
  },
  {
   "cell_type": "code",
   "execution_count": 4,
   "source": [
    "# fixed resizing and distort aspect ratio so let's resize the width\r\n",
    "# to be 300px but compute the new height based on the aspect ratio\r\n",
    "r = 300.0 / w\r\n",
    "dim = (300, int(h * r))\r\n",
    "resized = cv2.resize(image, dim)\r\n",
    "cv2.imshow(\"Aspect Ratio Resize\", resized)\r\n",
    "cv2.waitKey(0)"
   ],
   "outputs": [
    {
     "output_type": "execute_result",
     "data": {
      "text/plain": [
       "-1"
      ]
     },
     "metadata": {},
     "execution_count": 4
    }
   ],
   "metadata": {}
  },
  {
   "cell_type": "markdown",
   "source": [
    "## Result\r\n",
    "<img src=\"tut1_4.png\"></img>"
   ],
   "metadata": {}
  },
  {
   "cell_type": "code",
   "execution_count": 5,
   "source": [
    "# let's rotate an image 11 degrees clockwise using OpenCV by first\r\n",
    "# computing the image center, then constructing the rotation matrix,\r\n",
    "# and then finally applying the affine warp\r\n",
    "center = (w // 2, h // 2)\r\n",
    "M = cv2.getRotationMatrix2D(center, -11, 1.0)\r\n",
    "rotated = cv2.warpAffine(image, M, (w, h))\r\n",
    "cv2.imshow(\"OpenCV Rotation\", rotated)\r\n",
    "cv2.waitKey(0)"
   ],
   "outputs": [
    {
     "output_type": "execute_result",
     "data": {
      "text/plain": [
       "-1"
      ]
     },
     "metadata": {},
     "execution_count": 5
    }
   ],
   "metadata": {}
  },
  {
   "cell_type": "markdown",
   "source": [
    "## Result\r\n",
    "<img src=\"tut1_5.png\"></img>"
   ],
   "metadata": {}
  },
  {
   "cell_type": "code",
   "execution_count": 6,
   "source": [
    "# rotation can also be easily accomplished via imutils with less code\r\n",
    "rotated = imutils.rotate(image, -11)\r\n",
    "cv2.imshow(\"Imutils Rotation\", rotated)\r\n",
    "cv2.waitKey(0)"
   ],
   "outputs": [
    {
     "output_type": "execute_result",
     "data": {
      "text/plain": [
       "-1"
      ]
     },
     "metadata": {},
     "execution_count": 6
    }
   ],
   "metadata": {}
  },
  {
   "cell_type": "markdown",
   "source": [
    "## Result\r\n",
    "<img src=\"tut1_5.png\"></img>"
   ],
   "metadata": {}
  },
  {
   "cell_type": "code",
   "execution_count": 4,
   "source": [
    "# OpenCV doesn't \"care\" if our rotated image is clipped after rotation\r\n",
    "# so we can instead use another imutils convenience function to help\r\n",
    "# us out\r\n",
    "rotated = imutils.rotate_bound(image, 11)\r\n",
    "cv2.imshow(\"Imutils Bound Rotation\", rotated)\r\n",
    "cv2.waitKey(0)"
   ],
   "outputs": [
    {
     "output_type": "execute_result",
     "data": {
      "text/plain": [
       "-1"
      ]
     },
     "metadata": {},
     "execution_count": 4
    }
   ],
   "metadata": {}
  },
  {
   "cell_type": "markdown",
   "source": [
    "## Result\r\n",
    "<img src=\"tut1_6.png\"></img>"
   ],
   "metadata": {}
  },
  {
   "cell_type": "code",
   "execution_count": 5,
   "source": [
    "# apply a Gaussian blur with a 11x11 kernel to the image to smooth it,\r\n",
    "# useful when reducing high frequency noise\r\n",
    "blurred = cv2.GaussianBlur(image, (11, 11), 0)\r\n",
    "cv2.imshow(\"Blurred\", blurred)\r\n",
    "cv2.waitKey(0)"
   ],
   "outputs": [
    {
     "output_type": "execute_result",
     "data": {
      "text/plain": [
       "-1"
      ]
     },
     "metadata": {},
     "execution_count": 5
    }
   ],
   "metadata": {}
  },
  {
   "cell_type": "markdown",
   "source": [
    "## Result\r\n",
    "<img src=\"tut1_7.png\"></img>"
   ],
   "metadata": {}
  },
  {
   "cell_type": "code",
   "execution_count": 6,
   "source": [
    "# draw a 2px thick red rectangle surrounding the face\r\n",
    "#parameters: img, pt1, pt2, color, thickness. Note: pt1,pt2: (x,y)\r\n",
    "output = image.copy()\r\n",
    "cv2.rectangle(output, (230, 60), (430, 230), (0, 0, 255), 2)\r\n",
    "cv2.imshow(\"Rectangle\", output)\r\n",
    "cv2.waitKey(0)"
   ],
   "outputs": [
    {
     "output_type": "execute_result",
     "data": {
      "text/plain": [
       "-1"
      ]
     },
     "metadata": {},
     "execution_count": 6
    }
   ],
   "metadata": {}
  },
  {
   "cell_type": "markdown",
   "source": [
    "## Result\r\n",
    "<img src=\"tut1_8.png\"></img>"
   ],
   "metadata": {}
  },
  {
   "cell_type": "code",
   "execution_count": 7,
   "source": [
    "# draw a blue 20px (filled in) circle on the image centered at\r\n",
    "# x=300,y=150\r\n",
    "#parameters: img, center, radius, color, thickness\r\n",
    "output = image.copy()\r\n",
    "cv2.circle(output, (300, 150), 20, (255, 0, 0), -1)\r\n",
    "cv2.imshow(\"Circle\", output)\r\n",
    "cv2.waitKey(0)"
   ],
   "outputs": [
    {
     "output_type": "execute_result",
     "data": {
      "text/plain": [
       "-1"
      ]
     },
     "metadata": {},
     "execution_count": 7
    }
   ],
   "metadata": {}
  },
  {
   "cell_type": "markdown",
   "source": [
    "## Result\r\n",
    "<img src=\"tut1_9.png\"></img>"
   ],
   "metadata": {}
  },
  {
   "cell_type": "code",
   "execution_count": 8,
   "source": [
    "# draw a 5px thick red line from x=60,y=20 to x=400,y=200\r\n",
    "output = image.copy()\r\n",
    "cv2.line(output, (60, 20), (400, 200), (0, 0, 255), 5)\r\n",
    "cv2.imshow(\"Line\", output)\r\n",
    "cv2.waitKey(0)"
   ],
   "outputs": [
    {
     "output_type": "execute_result",
     "data": {
      "text/plain": [
       "-1"
      ]
     },
     "metadata": {},
     "execution_count": 8
    }
   ],
   "metadata": {}
  },
  {
   "cell_type": "markdown",
   "source": [
    "## Result\r\n",
    "<img src=\"tut1_10.png\"></img>"
   ],
   "metadata": {}
  },
  {
   "cell_type": "code",
   "execution_count": 9,
   "source": [
    "# draw green text on the image\r\n",
    "#parameters: img, text, pt, font, scale, color, thickness\r\n",
    "output = image.copy()\r\n",
    "cv2.putText(output, \"OpenCV + Jurassic Park!!!\", (10, 25), \r\n",
    "\tcv2.FONT_HERSHEY_SIMPLEX, 0.7, (0, 255, 0), 2)\r\n",
    "cv2.imshow(\"Text\", output)\r\n",
    "cv2.waitKey(0)"
   ],
   "outputs": [
    {
     "output_type": "execute_result",
     "data": {
      "text/plain": [
       "-1"
      ]
     },
     "metadata": {},
     "execution_count": 9
    }
   ],
   "metadata": {}
  },
  {
   "cell_type": "markdown",
   "source": [
    "## Result\r\n",
    "<img src=\"tut1_11.png\"></img>"
   ],
   "metadata": {}
  },
  {
   "cell_type": "markdown",
   "source": [
    "# Tutorial 02"
   ],
   "metadata": {}
  },
  {
   "cell_type": "code",
   "execution_count": 53,
   "source": [
    "# import the necessary packages\r\n",
    "import imutils\r\n",
    "import cv2\r\n",
    "\r\n",
    "#Load Image\r\n",
    "image = cv2.imread('tetris_blocks.png')\r\n",
    "cv2.imshow('Image', image)\r\n",
    "cv2.waitKey(0)\r\n",
    "\r\n",
    "#convert image to grayscale\r\n",
    "gray = cv2.cvtColor(image, cv2.COLOR_BGR2GRAY)\r\n",
    "cv2.imshow(\"Gray\", gray)\r\n",
    "cv2.waitKey(0)"
   ],
   "outputs": [
    {
     "output_type": "execute_result",
     "data": {
      "text/plain": [
       "-1"
      ]
     },
     "metadata": {},
     "execution_count": 53
    }
   ],
   "metadata": {}
  },
  {
   "cell_type": "markdown",
   "source": [
    "## Result\r\n",
    "## 1\r\n",
    "<img src='tut2_1.png'></img>\r\n",
    "## 2\r\n",
    "<img src='tut2_2.png'></img>"
   ],
   "metadata": {}
  },
  {
   "cell_type": "code",
   "execution_count": 54,
   "source": [
    "# applying edge detection we can find the outlines of objects in\r\n",
    "# images\r\n",
    "#parameters: img, minVal, maxVal, aperture_size\r\n",
    "edged = cv2.Canny(gray, 30, 150)\r\n",
    "cv2.imshow(\"Edged\", edged)\r\n",
    "cv2.waitKey(0)"
   ],
   "outputs": [
    {
     "output_type": "execute_result",
     "data": {
      "text/plain": [
       "-1"
      ]
     },
     "metadata": {},
     "execution_count": 54
    }
   ],
   "metadata": {}
  },
  {
   "cell_type": "markdown",
   "source": [
    "## Result\r\n",
    "<img src='tut2_3.png'></img>"
   ],
   "metadata": {}
  },
  {
   "cell_type": "code",
   "execution_count": 55,
   "source": [
    "# threshold the image by setting all pixel values less than 225\r\n",
    "# to 255 (white; foreground) and all pixel values >= 225 to 255\r\n",
    "# (black; background), thereby segmenting the image\r\n",
    "thresh = cv2.threshold(gray, 225, 255, cv2.THRESH_BINARY_INV)[1]\r\n",
    "cv2.imshow(\"Thresh\", thresh)\r\n",
    "cv2.waitKey(0)"
   ],
   "outputs": [
    {
     "output_type": "execute_result",
     "data": {
      "text/plain": [
       "-1"
      ]
     },
     "metadata": {},
     "execution_count": 55
    }
   ],
   "metadata": {}
  },
  {
   "cell_type": "markdown",
   "source": [
    "## Result\r\n",
    "<img src='tut2_4.png'></img>"
   ],
   "metadata": {}
  },
  {
   "cell_type": "code",
   "execution_count": 56,
   "source": [
    "# find contours (i.e., outlines) of the foreground objects in the\r\n",
    "# thresholded image\r\n",
    "cnts = cv2.findContours(thresh.copy(), cv2.RETR_EXTERNAL,\r\n",
    "\tcv2.CHAIN_APPROX_SIMPLE)\r\n",
    "cnts = imutils.grab_contours(cnts)\r\n",
    "output = image.copy()\r\n",
    "# loop over the contours\r\n",
    "for c in cnts:\r\n",
    "\t# draw each contour on the output image with a 3px thick purple\r\n",
    "\t# outline, then display the output contours one at a time\r\n",
    "\tcv2.drawContours(output, [c], -1, (240, 0, 159), 3)\r\n",
    "\tcv2.imshow(\"Contours\", output)\r\n",
    "\tcv2.waitKey(0)"
   ],
   "outputs": [],
   "metadata": {}
  },
  {
   "cell_type": "markdown",
   "source": [
    "## Result\r\n",
    "# 1\r\n",
    "<img src='tut2_5.png'></img>\r\n",
    "# 2\r\n",
    "<img src='tut2_6.png'></img>\r\n",
    "# 3\r\n",
    "<img src='tut2_7.png'></img>\r\n",
    "# 4\r\n",
    "<img src='tut2_8.png'></img>\r\n",
    "# 5\r\n",
    "<img src='tut2_9.png'></img>\r\n",
    "# 6\r\n",
    "<img src='tut2_10.png'></img>"
   ],
   "metadata": {}
  }
 ],
 "metadata": {
  "orig_nbformat": 4,
  "language_info": {
   "name": "python",
   "version": "3.8.8",
   "mimetype": "text/x-python",
   "codemirror_mode": {
    "name": "ipython",
    "version": 3
   },
   "pygments_lexer": "ipython3",
   "nbconvert_exporter": "python",
   "file_extension": ".py"
  },
  "kernelspec": {
   "name": "python3",
   "display_name": "Python 3.8.8 64-bit"
  },
  "interpreter": {
   "hash": "183bbf6827d058c2a2fb0f4acdc0420849dda2b4380af0e437e38c64d798d8b7"
  }
 },
 "nbformat": 4,
 "nbformat_minor": 2
}